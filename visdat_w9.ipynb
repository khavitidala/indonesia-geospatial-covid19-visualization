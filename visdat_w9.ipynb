{
 "cells": [
  {
   "cell_type": "markdown",
   "metadata": {
    "id": "xOxfqTCU3nXb"
   },
   "source": [
    "# Buatlah visualisasi geospatial yang menunjukkan sebaran kasus positif covid19 di Indonesia berbasis provinsi"
   ]
  },
  {
   "cell_type": "markdown",
   "metadata": {
    "id": "XXASKkpk3qOE"
   },
   "source": [
    "## Ryan Abdurohman, 1301191171"
   ]
  },
  {
   "cell_type": "code",
   "execution_count": 1,
   "metadata": {
    "id": "4POvg6hHy6Ir"
   },
   "outputs": [
    {
     "name": "stdout",
     "output_type": "stream",
     "text": [
      "--2021-12-02 14:35:38--  https://github.com/Alf-Anas/batas-administrasi-indonesia/raw/master/batas_provinsi/Batas%20Provinsi%20SHP.zip\n",
      "Resolving github.com (github.com)... 20.205.243.166\n",
      "Connecting to github.com (github.com)|20.205.243.166|:443... connected.\n",
      "HTTP request sent, awaiting response... 302 Found\n",
      "Location: https://raw.githubusercontent.com/Alf-Anas/batas-administrasi-indonesia/master/batas_provinsi/Batas%20Provinsi%20SHP.zip [following]\n",
      "--2021-12-02 14:35:39--  https://raw.githubusercontent.com/Alf-Anas/batas-administrasi-indonesia/master/batas_provinsi/Batas%20Provinsi%20SHP.zip\n",
      "Resolving raw.githubusercontent.com (raw.githubusercontent.com)... 185.199.111.133, 185.199.108.133, 185.199.109.133, ...\n",
      "Connecting to raw.githubusercontent.com (raw.githubusercontent.com)|185.199.111.133|:443... connected.\n",
      "HTTP request sent, awaiting response... 200 OK\n",
      "Length: 753577 (736K) [application/zip]\n",
      "Saving to: ‘Batas Provinsi SHP.zip’\n",
      "\n",
      "Batas Provinsi SHP. 100%[===================>] 735.92K   620KB/s    in 1.2s    \n",
      "\n",
      "2021-12-02 14:35:41 (620 KB/s) - ‘Batas Provinsi SHP.zip’ saved [753577/753577]\n",
      "\n"
     ]
    }
   ],
   "source": [
    "!wget https://github.com/Alf-Anas/batas-administrasi-indonesia/raw/master/batas_provinsi/Batas%20Provinsi%20SHP.zip"
   ]
  },
  {
   "cell_type": "code",
   "execution_count": 4,
   "metadata": {
    "id": "d0QnYzvdzQoR"
   },
   "outputs": [
    {
     "name": "stdout",
     "output_type": "stream",
     "text": [
      "Archive:  Batas Provinsi SHP.zip\r\n",
      "  inflating: Batas Provinsi.shx      \r\n",
      "  inflating: Batas Provinsi.cpg      \r\n",
      "  inflating: Batas Provinsi.dbf      \r\n",
      "  inflating: Batas Provinsi.prj      \r\n",
      "  inflating: Batas Provinsi.qpj      \r\n",
      "  inflating: Batas Provinsi.shp      \r\n"
     ]
    }
   ],
   "source": [
    "# !apt install unzip\n",
    "!unzip \"Batas Provinsi SHP.zip\""
   ]
  },
  {
   "cell_type": "code",
   "execution_count": 1,
   "metadata": {
    "id": "xyMYXqRk29Z_"
   },
   "outputs": [],
   "source": [
    "import geoplot as gplt\n",
    "import geopandas as gpd\n",
    "import geoplot.crs as gcrs\n",
    "import pandas as pd\n",
    "import pathlib\n",
    "import matplotlib.animation as animation\n",
    "import matplotlib.pyplot as plt\n",
    "import numpy as np\n",
    "import urllib.request\n",
    "import json\n",
    "%matplotlib inline\n",
    "\n",
    "pd.options.display.max_rows = 500\n",
    "pd.options.display.max_columns = 500"
   ]
  },
  {
   "cell_type": "code",
   "execution_count": null,
   "metadata": {
    "colab": {
     "base_uri": "https://localhost:8080/",
     "height": 206
    },
    "id": "jwQWLh732kpN",
    "outputId": "1c789b19-105b-470e-bffb-bb4309aa1f7b"
   },
   "outputs": [],
   "source": [
    "id = gpd.read_file(\"Batas Provinsi.shp\")\n",
    "id.head()"
   ]
  },
  {
   "cell_type": "code",
   "execution_count": 5,
   "metadata": {
    "colab": {
     "base_uri": "https://localhost:8080/"
    },
    "id": "TMvtnf_p2y6C",
    "outputId": "b4226ab6-daf8-4bf7-aeb0-c4c4844ad2f9"
   },
   "outputs": [
    {
     "data": {
      "text/plain": [
       "(array(['NUSA TENGGARA BARAT', 'NUSA TENGGARA TIMUR', 'KALIMANTAN SELATAN',\n",
       "        'KALIMANTAN UTARA', 'SULAWESI BARAT', 'MALUKU UTARA', 'RIAU',\n",
       "        'DAERAH ISTIMEWA YOGYAKARTA', 'PAPUA', 'PAPUA BARAT',\n",
       "        'KALIMANTAN TIMUR', 'BENGKULU', 'ACEH', 'SUMATERA UTARA',\n",
       "        'KEPULAUAN BANGKA BELITUNG', 'SUMATERA BARAT', 'LAMPUNG',\n",
       "        'DKI JAKARTA', 'JAWA TENGAH', 'KEPULAUAN RIAU', 'BALI',\n",
       "        'KALIMANTAN BARAT', 'KALIMANTAN TENGAH', 'SULAWESI UTARA', 'JAMBI',\n",
       "        'SULAWESI TENGAH', 'GORONTALO', 'JAWA BARAT', 'JAWA TIMUR',\n",
       "        'MALUKU', 'SULAWESI SELATAN', 'SUMATERA SELATAN', 'BANTEN',\n",
       "        'SULAWESI TENGGARA'], dtype=object), (34,))"
      ]
     },
     "execution_count": 5,
     "metadata": {},
     "output_type": "execute_result"
    }
   ],
   "source": [
    "prov = id.Provinsi.unique()\n",
    "prov, prov.shape "
   ]
  },
  {
   "cell_type": "code",
   "execution_count": 6,
   "metadata": {
    "colab": {
     "base_uri": "https://localhost:8080/",
     "height": 269
    },
    "id": "zQn4O86Z3Kva",
    "outputId": "04f1d750-174f-44c8-d172-5ec37404041b"
   },
   "outputs": [
    {
     "name": "stderr",
     "output_type": "stream",
     "text": [
      "/usr/local/lib/python3.7/dist-packages/geoplot/geoplot.py:903: ShapelyDeprecationWarning: Iteration over multi-part geometries is deprecated and will be removed in Shapely 2.0. Use the `geoms` property to access the constituent parts of a multi-part geometry.\n",
      "  for subgeom in geom:\n"
     ]
    },
    {
     "data": {
      "text/plain": [
       "<matplotlib.axes._subplots.AxesSubplot at 0x7f594f682250>"
      ]
     },
     "execution_count": 6,
     "metadata": {},
     "output_type": "execute_result"
    },
    {
     "data": {
      "image/png": "[encoded data removed]",
      "text/plain": [
       "<Figure size 576x432 with 1 Axes>"
      ]
     },
     "metadata": {
      "needs_background": "light"
     },
     "output_type": "display_data"
    }
   ],
   "source": [
    "gplt.polyplot(id)"
   ]
  },
  {
   "cell_type": "code",
   "execution_count": 7,
   "metadata": {
    "id": "oICoUTOH3UDb"
   },
   "outputs": [],
   "source": [
    "raw = json.loads(urllib.request.urlopen(\"https://data.covid19.go.id/public/api/prov.json\").read())[\"list_data\"]"
   ]
  },
  {
   "cell_type": "code",
   "execution_count": 8,
   "metadata": {
    "colab": {
     "base_uri": "https://localhost:8080/"
    },
    "id": "MMxrJ4177oNG",
    "outputId": "099aa9f5-0499-43d6-e59b-ddf851373e18"
   },
   "outputs": [
    {
     "data": {
      "text/plain": [
       "{'doc_count': 20.297979756452527,\n",
       " 'jenis_kelamin': [{'doc_count': 424323, 'key': 'LAKI-LAKI'},\n",
       "  {'doc_count': 429064, 'key': 'PEREMPUAN'}],\n",
       " 'jumlah_dirawat': 549,\n",
       " 'jumlah_kasus': 864017,\n",
       " 'jumlah_meninggal': 13596,\n",
       " 'jumlah_sembuh': 849872,\n",
       " 'kelompok_umur': [{'doc_count': 27981, 'key': '0-5', 'usia': {'value': 5.0}},\n",
       "  {'doc_count': 83265, 'key': '6-18', 'usia': {'value': 18.0}},\n",
       "  {'doc_count': 229564, 'key': '19-30', 'usia': {'value': 30.0}},\n",
       "  {'doc_count': 252151, 'key': '31-45', 'usia': {'value': 45.0}},\n",
       "  {'doc_count': 169334, 'key': '46-59', 'usia': {'value': 59.0}},\n",
       "  {'doc_count': 87697, 'key': '≥ 60', 'usia': {'value': 36583.0}}],\n",
       " 'key': 'DKI JAKARTA',\n",
       " 'lokasi': {'lat': -6.204698991169558, 'lon': 106.83611829006928},\n",
       " 'penambahan': {'meninggal': 0, 'positif': 70, 'sembuh': 0}}"
      ]
     },
     "execution_count": 8,
     "metadata": {},
     "output_type": "execute_result"
    }
   ],
   "source": [
    "raw[0]"
   ]
  },
  {
   "cell_type": "code",
   "execution_count": 9,
   "metadata": {
    "id": "F5DYpDGU4-Kr"
   },
   "outputs": [],
   "source": [
    "rawdat = []\n",
    "for dat in raw:\n",
    "  temp = {}\n",
    "  temp[\"Provinsi\"] = dat['key']\n",
    "  temp[\"case\"] = dat[\"penambahan\"][\"positif\"]\n",
    "  rawdat.append(temp)"
   ]
  },
  {
   "cell_type": "code",
   "execution_count": 10,
   "metadata": {
    "colab": {
     "base_uri": "https://localhost:8080/",
     "height": 206
    },
    "id": "Iqj94kUd6vgQ",
    "outputId": "f22a398a-8e8f-4262-95db-c5569e9b9eae"
   },
   "outputs": [
    {
     "data": {
      "text/html": [
       "<div>\n",
       "<style scoped>\n",
       "    .dataframe tbody tr th:only-of-type {\n",
       "        vertical-align: middle;\n",
       "    }\n",
       "\n",
       "    .dataframe tbody tr th {\n",
       "        vertical-align: top;\n",
       "    }\n",
       "\n",
       "    .dataframe thead th {\n",
       "        text-align: right;\n",
       "    }\n",
       "</style>\n",
       "<table border=\"1\" class=\"dataframe\">\n",
       "  <thead>\n",
       "    <tr style=\"text-align: right;\">\n",
       "      <th></th>\n",
       "      <th>Provinsi</th>\n",
       "      <th>case</th>\n",
       "    </tr>\n",
       "  </thead>\n",
       "  <tbody>\n",
       "    <tr>\n",
       "      <th>0</th>\n",
       "      <td>DKI JAKARTA</td>\n",
       "      <td>70</td>\n",
       "    </tr>\n",
       "    <tr>\n",
       "      <th>1</th>\n",
       "      <td>JAWA BARAT</td>\n",
       "      <td>58</td>\n",
       "    </tr>\n",
       "    <tr>\n",
       "      <th>2</th>\n",
       "      <td>JAWA TENGAH</td>\n",
       "      <td>20</td>\n",
       "    </tr>\n",
       "    <tr>\n",
       "      <th>3</th>\n",
       "      <td>JAWA TIMUR</td>\n",
       "      <td>30</td>\n",
       "    </tr>\n",
       "    <tr>\n",
       "      <th>4</th>\n",
       "      <td>KALIMANTAN TIMUR</td>\n",
       "      <td>6</td>\n",
       "    </tr>\n",
       "  </tbody>\n",
       "</table>\n",
       "</div>"
      ],
      "text/plain": [
       "           Provinsi  case\n",
       "0       DKI JAKARTA    70\n",
       "1        JAWA BARAT    58\n",
       "2       JAWA TENGAH    20\n",
       "3        JAWA TIMUR    30\n",
       "4  KALIMANTAN TIMUR     6"
      ]
     },
     "execution_count": 10,
     "metadata": {},
     "output_type": "execute_result"
    }
   ],
   "source": [
    "df_raw = pd.DataFrame(rawdat)\n",
    "df_raw.head()"
   ]
  },
  {
   "cell_type": "code",
   "execution_count": 11,
   "metadata": {
    "colab": {
     "base_uri": "https://localhost:8080/",
     "height": 206
    },
    "id": "SQXmS2FY7KQf",
    "outputId": "339b8b60-ca1f-450c-d4e7-73e70504fd49"
   },
   "outputs": [
    {
     "data": {
      "text/html": [
       "<div>\n",
       "<style scoped>\n",
       "    .dataframe tbody tr th:only-of-type {\n",
       "        vertical-align: middle;\n",
       "    }\n",
       "\n",
       "    .dataframe tbody tr th {\n",
       "        vertical-align: top;\n",
       "    }\n",
       "\n",
       "    .dataframe thead th {\n",
       "        text-align: right;\n",
       "    }\n",
       "</style>\n",
       "<table border=\"1\" class=\"dataframe\">\n",
       "  <thead>\n",
       "    <tr style=\"text-align: right;\">\n",
       "      <th></th>\n",
       "      <th>No</th>\n",
       "      <th>Kode_Prov</th>\n",
       "      <th>Provinsi</th>\n",
       "      <th>geometry</th>\n",
       "      <th>case</th>\n",
       "    </tr>\n",
       "  </thead>\n",
       "  <tbody>\n",
       "    <tr>\n",
       "      <th>0</th>\n",
       "      <td>11.0</td>\n",
       "      <td>52</td>\n",
       "      <td>NUSA TENGGARA BARAT</td>\n",
       "      <td>MULTIPOLYGON (((118.72881 -8.35901, 118.72886 ...</td>\n",
       "      <td>1</td>\n",
       "    </tr>\n",
       "    <tr>\n",
       "      <th>1</th>\n",
       "      <td>22.0</td>\n",
       "      <td>53</td>\n",
       "      <td>NUSA TENGGARA TIMUR</td>\n",
       "      <td>MULTIPOLYGON (((122.65419 -8.63712, 122.62966 ...</td>\n",
       "      <td>10</td>\n",
       "    </tr>\n",
       "    <tr>\n",
       "      <th>2</th>\n",
       "      <td>25.0</td>\n",
       "      <td>63</td>\n",
       "      <td>KALIMANTAN SELATAN</td>\n",
       "      <td>MULTIPOLYGON (((114.88632 -2.50353, 114.91290 ...</td>\n",
       "      <td>9</td>\n",
       "    </tr>\n",
       "    <tr>\n",
       "      <th>3</th>\n",
       "      <td>27.0</td>\n",
       "      <td>65</td>\n",
       "      <td>KALIMANTAN UTARA</td>\n",
       "      <td>MULTIPOLYGON (((116.58930 4.37422, 116.61513 4...</td>\n",
       "      <td>1</td>\n",
       "    </tr>\n",
       "    <tr>\n",
       "      <th>4</th>\n",
       "      <td>30.0</td>\n",
       "      <td>76</td>\n",
       "      <td>SULAWESI BARAT</td>\n",
       "      <td>MULTIPOLYGON (((119.86380 -1.96121, 119.87027 ...</td>\n",
       "      <td>1</td>\n",
       "    </tr>\n",
       "  </tbody>\n",
       "</table>\n",
       "</div>"
      ],
      "text/plain": [
       "     No Kode_Prov             Provinsi  \\\n",
       "0  11.0        52  NUSA TENGGARA BARAT   \n",
       "1  22.0        53  NUSA TENGGARA TIMUR   \n",
       "2  25.0        63   KALIMANTAN SELATAN   \n",
       "3  27.0        65     KALIMANTAN UTARA   \n",
       "4  30.0        76       SULAWESI BARAT   \n",
       "\n",
       "                                            geometry  case  \n",
       "0  MULTIPOLYGON (((118.72881 -8.35901, 118.72886 ...     1  \n",
       "1  MULTIPOLYGON (((122.65419 -8.63712, 122.62966 ...    10  \n",
       "2  MULTIPOLYGON (((114.88632 -2.50353, 114.91290 ...     9  \n",
       "3  MULTIPOLYGON (((116.58930 4.37422, 116.61513 4...     1  \n",
       "4  MULTIPOLYGON (((119.86380 -1.96121, 119.87027 ...     1  "
      ]
     },
     "execution_count": 11,
     "metadata": {},
     "output_type": "execute_result"
    }
   ],
   "source": [
    "df = pd.merge(id, df_raw, on=\"Provinsi\")\n",
    "df.head()"
   ]
  },
  {
   "cell_type": "code",
   "execution_count": 12,
   "metadata": {
    "colab": {
     "base_uri": "https://localhost:8080/"
    },
    "id": "yhHdQ83q8brJ",
    "outputId": "2f26fec2-13c8-464c-8cf9-553f285b7483"
   },
   "outputs": [
    {
     "data": {
      "text/plain": [
       "34"
      ]
     },
     "execution_count": 12,
     "metadata": {},
     "output_type": "execute_result"
    }
   ],
   "source": [
    "df.Provinsi.nunique()"
   ]
  },
  {
   "cell_type": "code",
   "execution_count": 13,
   "metadata": {
    "id": "M-HgxeEL8jVP"
   },
   "outputs": [],
   "source": [
    "df = df.set_index(\"Provinsi\")"
   ]
  },
  {
   "cell_type": "code",
   "execution_count": 14,
   "metadata": {
    "id": "RA-lHgqH8yaP"
   },
   "outputs": [],
   "source": [
    "df = df.drop([\"No\", \"Kode_Prov\"], axis=1)"
   ]
  },
  {
   "cell_type": "code",
   "execution_count": 15,
   "metadata": {
    "colab": {
     "base_uri": "https://localhost:8080/",
     "height": 238
    },
    "id": "PJfdW3hk8wcX",
    "outputId": "1a5e20e9-d849-45a5-de38-84cd04b209de"
   },
   "outputs": [
    {
     "data": {
      "text/html": [
       "<div>\n",
       "<style scoped>\n",
       "    .dataframe tbody tr th:only-of-type {\n",
       "        vertical-align: middle;\n",
       "    }\n",
       "\n",
       "    .dataframe tbody tr th {\n",
       "        vertical-align: top;\n",
       "    }\n",
       "\n",
       "    .dataframe thead th {\n",
       "        text-align: right;\n",
       "    }\n",
       "</style>\n",
       "<table border=\"1\" class=\"dataframe\">\n",
       "  <thead>\n",
       "    <tr style=\"text-align: right;\">\n",
       "      <th></th>\n",
       "      <th>geometry</th>\n",
       "      <th>case</th>\n",
       "    </tr>\n",
       "    <tr>\n",
       "      <th>Provinsi</th>\n",
       "      <th></th>\n",
       "      <th></th>\n",
       "    </tr>\n",
       "  </thead>\n",
       "  <tbody>\n",
       "    <tr>\n",
       "      <th>NUSA TENGGARA BARAT</th>\n",
       "      <td>MULTIPOLYGON (((118.72881 -8.35901, 118.72886 ...</td>\n",
       "      <td>1</td>\n",
       "    </tr>\n",
       "    <tr>\n",
       "      <th>NUSA TENGGARA TIMUR</th>\n",
       "      <td>MULTIPOLYGON (((122.65419 -8.63712, 122.62966 ...</td>\n",
       "      <td>10</td>\n",
       "    </tr>\n",
       "    <tr>\n",
       "      <th>KALIMANTAN SELATAN</th>\n",
       "      <td>MULTIPOLYGON (((114.88632 -2.50353, 114.91290 ...</td>\n",
       "      <td>9</td>\n",
       "    </tr>\n",
       "    <tr>\n",
       "      <th>KALIMANTAN UTARA</th>\n",
       "      <td>MULTIPOLYGON (((116.58930 4.37422, 116.61513 4...</td>\n",
       "      <td>1</td>\n",
       "    </tr>\n",
       "    <tr>\n",
       "      <th>SULAWESI BARAT</th>\n",
       "      <td>MULTIPOLYGON (((119.86380 -1.96121, 119.87027 ...</td>\n",
       "      <td>1</td>\n",
       "    </tr>\n",
       "  </tbody>\n",
       "</table>\n",
       "</div>"
      ],
      "text/plain": [
       "                                                              geometry  case\n",
       "Provinsi                                                                    \n",
       "NUSA TENGGARA BARAT  MULTIPOLYGON (((118.72881 -8.35901, 118.72886 ...     1\n",
       "NUSA TENGGARA TIMUR  MULTIPOLYGON (((122.65419 -8.63712, 122.62966 ...    10\n",
       "KALIMANTAN SELATAN   MULTIPOLYGON (((114.88632 -2.50353, 114.91290 ...     9\n",
       "KALIMANTAN UTARA     MULTIPOLYGON (((116.58930 4.37422, 116.61513 4...     1\n",
       "SULAWESI BARAT       MULTIPOLYGON (((119.86380 -1.96121, 119.87027 ...     1"
      ]
     },
     "execution_count": 15,
     "metadata": {},
     "output_type": "execute_result"
    }
   ],
   "source": [
    "df.head()"
   ]
  },
  {
   "cell_type": "code",
   "execution_count": null,
   "metadata": {
    "id": "zECoclHB85J-"
   },
   "outputs": [],
   "source": [
    "ax = gplt.polyplot(df, \n",
    "                    figsize=(15, 10),\n",
    "                   projection=gcrs.AlbersEqualArea())\n",
    "\n",
    "gplt.choropleth(\n",
    "    df,\n",
    "    hue=\"case\",\n",
    "    edgecolor=\"white\",\n",
    "    linewidth=1,\n",
    "    cmap=\"Reds\",\n",
    "    legend=True,\n",
    "    scheme=\"FisherJenks\",\n",
    "#     legend_labels=[\n",
    "#         \"<3 million\", \"3-6.7 million\", \"6.7-12.8 million\",\n",
    "#         \"12.8-25 million\", \"25-37 million\"\n",
    "#     ],\n",
    "    projection=gcrs.AlbersEqualArea(),\n",
    "    ax=ax\n",
    ")"
   ]
  }
 ],
 "metadata": {
  "colab": {
   "name": "visdat-w9.ipynb",
   "provenance": []
  },
  "kernelspec": {
   "display_name": "Python 3",
   "language": "python",
   "name": "python3"
  },
  "language_info": {
   "codemirror_mode": {
    "name": "ipython",
    "version": 3
   },
   "file_extension": ".py",
   "mimetype": "text/x-python",
   "name": "python",
   "nbconvert_exporter": "python",
   "pygments_lexer": "ipython3",
   "version": "3.9.7"
  }
 },
 "nbformat": 4,
 "nbformat_minor": 1
}
